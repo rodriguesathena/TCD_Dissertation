{
 "cells": [
  {
   "cell_type": "code",
   "execution_count": 6,
   "id": "131c3f75",
   "metadata": {},
   "outputs": [],
   "source": [
    "precovid_duration = r\"C:\\Users\\athen\\Documents\\GitHub\\TCD_Masters_Dissertation\\final_code\\metrics\\precovid\\durationsdf_precovid.csv\"\n",
    "lockdown_duration = r\"C:\\Users\\athen\\Documents\\GitHub\\TCD_Masters_Dissertation\\final_code\\metrics\\lockdown\\durationsdf_lockdown.csv\"\n",
    "recovery_duration = r\"C:\\Users\\athen\\Documents\\GitHub\\TCD_Masters_Dissertation\\final_code\\metrics\\recovery\\durationsdf_recovery.csv\"\n",
    "postcovid_duration = r\"C:\\Users\\athen\\Documents\\GitHub\\TCD_Masters_Dissertation\\final_code\\metrics\\postcovid\\durationsdf_postcovid.csv\"\n",
    "\n"
   ]
  },
  {
   "cell_type": "markdown",
   "id": "5cf8670c",
   "metadata": {},
   "source": [
    "# HEADWAYS"
   ]
  },
  {
   "cell_type": "code",
   "execution_count": 18,
   "id": "d56f2a6b",
   "metadata": {},
   "outputs": [
    {
     "name": "stdout",
     "output_type": "stream",
     "text": [
      "\n",
      "==== Pre-COVID Headways ====\n",
      "\n",
      "Top 3 Stops with Highest Avg Headways:\n",
      " Line Direction Stop  AvgHeadwayMinutes\n",
      "Green  Outbound  CHE          27.541667\n",
      "  Red   Inbound  SDK          23.000000\n",
      "Green   Inbound  CAB          19.807333\n",
      "\n",
      "Top 3 Stops with Lowest Avg Headways:\n",
      "Line Direction Stop  AvgHeadwayMinutes\n",
      " Red  Outbound  SMI           8.058869\n",
      " Red  Outbound  FOU           8.102937\n",
      " Red  Outbound  BEL           8.121203\n",
      "\n",
      "==== Lockdown Headways ====\n",
      "\n",
      "Top 3 Stops with Highest Avg Headways:\n",
      " Line Direction Stop  AvgHeadwayMinutes\n",
      "Green  Outbound  CHE          20.262222\n",
      "  Red  Outbound  HOS          19.085632\n",
      "  Red   Inbound  SDK          18.914368\n",
      "\n",
      "Top 3 Stops with Lowest Avg Headways:\n",
      "Line Direction Stop  AvgHeadwayMinutes\n",
      " Red  Outbound  JER           7.896346\n",
      " Red  Outbound  SMI           7.898741\n",
      " Red  Outbound  FOU           7.899041\n",
      "\n",
      "==== Recovery Headways ====\n",
      "\n",
      "Top 3 Stops with Highest Avg Headways:\n",
      " Line Direction Stop  AvgHeadwayMinutes\n",
      "  Red  Outbound  FOR          23.779630\n",
      "Green  Outbound  CHE          20.997619\n",
      "  Red  Outbound  HOS          20.717708\n",
      "\n",
      "Top 3 Stops with Lowest Avg Headways:\n",
      " Line Direction Stop  AvgHeadwayMinutes\n",
      "Green  Outbound  PAR           8.435909\n",
      "Green  Outbound  MAR           8.534872\n",
      "Green  Outbound  TRY           8.639996\n",
      "\n",
      "==== Post-COVID Headways ====\n",
      "\n",
      "Top 3 Stops with Highest Avg Headways:\n",
      " Line Direction Stop  AvgHeadwayMinutes\n",
      "  Red  Outbound  FOR          24.813333\n",
      "Green  Outbound  CHE          22.608333\n",
      "  Red   Inbound  SDK          22.521605\n",
      "\n",
      "Top 3 Stops with Lowest Avg Headways:\n",
      " Line Direction Stop  AvgHeadwayMinutes\n",
      "Green  Outbound  PAR           9.005380\n",
      "Green  Outbound  MAR           9.113944\n",
      "Green  Outbound  COW           9.243186\n"
     ]
    }
   ],
   "source": [
    "import pandas as pd\n",
    "\n",
    "# File paths\n",
    "precovid_headways = r\"C:\\Users\\athen\\Documents\\GitHub\\TCD_Dissertation\\data\\metrics\\precovid\\headwaydf_precovid.csv\"\n",
    "lockdown_headways = r\"C:\\Users\\athen\\Documents\\GitHub\\TCD_Dissertation\\data\\metrics\\lockdown\\headwaydf_lockdown.csv\"\n",
    "recovery_headways = r\"C:\\Users\\athen\\Documents\\GitHub\\TCD_Dissertation\\data\\metrics\\recovery\\headwaydf_recovery.csv\"\n",
    "postcovid_headways = r\"C:\\Users\\athen\\Documents\\GitHub\\TCD_Dissertation\\data\\metrics\\postcovid\\headwaydf_postcovid.csv\"\n",
    "\n",
    "# Load and label\n",
    "def load_with_label(path, period_label):\n",
    "    df = pd.read_csv(path)\n",
    "    df[\"Period\"] = period_label\n",
    "    return df\n",
    "\n",
    "# Load all datasets\n",
    "dfs = [\n",
    "    load_with_label(precovid_headways, \"Pre-COVID\"),\n",
    "    load_with_label(lockdown_headways, \"Lockdown\"),\n",
    "    load_with_label(recovery_headways, \"Recovery\"),\n",
    "    load_with_label(postcovid_headways, \"Post-COVID\")\n",
    "]\n",
    "\n",
    "# Combine\n",
    "df_all = pd.concat(dfs, ignore_index=True)\n",
    "\n",
    "# Clean\n",
    "df_all.columns = df_all.columns.str.strip()\n",
    "df_all['Stop'] = df_all['Stop'].str.upper()\n",
    "\n",
    "# Analysis function\n",
    "def show_extremes(df, period):\n",
    "    subset = df[df[\"Period\"] == period]\n",
    "    print(f\"\\n==== {period} Headways ====\")\n",
    "\n",
    "    if subset.empty:\n",
    "        print(\"No data available.\")\n",
    "        return\n",
    "\n",
    "    top = subset.sort_values(\"AvgHeadwayMinutes\", ascending=False).head(3)\n",
    "    low = subset.sort_values(\"AvgHeadwayMinutes\").head(3)\n",
    "\n",
    "    print(\"\\nTop 3 Stops with Highest Avg Headways:\")\n",
    "    print(top[[\"Line\", \"Direction\", \"Stop\", \"AvgHeadwayMinutes\"]].to_string(index=False))\n",
    "\n",
    "    print(\"\\nTop 3 Stops with Lowest Avg Headways:\")\n",
    "    print(low[[\"Line\", \"Direction\", \"Stop\", \"AvgHeadwayMinutes\"]].to_string(index=False))\n",
    "\n",
    "# Run for each period\n",
    "for period in df_all[\"Period\"].unique():\n",
    "    show_extremes(df_all, period)\n"
   ]
  },
  {
   "cell_type": "markdown",
   "id": "93acfdbc",
   "metadata": {},
   "source": [
    "### Tables"
   ]
  },
  {
   "cell_type": "code",
   "execution_count": 24,
   "id": "59c086e5",
   "metadata": {},
   "outputs": [
    {
     "name": "stderr",
     "output_type": "stream",
     "text": [
      "C:\\Users\\athen\\AppData\\Local\\Temp\\ipykernel_17800\\777070547.py:1: DeprecationWarning: DataFrameGroupBy.apply operated on the grouping columns. This behavior is deprecated, and in a future version of pandas the grouping columns will be excluded from the operation. Either pass `include_groups=False` to exclude the groupings or explicitly select the grouping columns after groupby to silence this warning.\n",
      "  df_all.groupby(['Period', 'Line']).apply(lambda g: (g['AvgHeadwayMinutes'] > 10).mean() * 100).round(1)\n"
     ]
    },
    {
     "data": {
      "text/plain": [
       "Period      Line \n",
       "Lockdown    Green    62.1\n",
       "            Red      71.8\n",
       "Post-COVID  Green    85.5\n",
       "            Red      96.4\n",
       "Pre-COVID   Green    63.7\n",
       "            Red      75.2\n",
       "Recovery    Green    79.8\n",
       "            Red      81.8\n",
       "dtype: float64"
      ]
     },
     "execution_count": 24,
     "metadata": {},
     "output_type": "execute_result"
    }
   ],
   "source": [
    "df_all.groupby(['Period', 'Line']).apply(lambda g: (g['AvgHeadwayMinutes'] > 10).mean() * 100).round(1)\n"
   ]
  },
  {
   "cell_type": "code",
   "execution_count": 25,
   "id": "41c8e847",
   "metadata": {},
   "outputs": [
    {
     "data": {
      "text/plain": [
       "Period      Line   PeakPeriod  Direction\n",
       "Lockdown    Green  Evening     Inbound      11.59\n",
       "                               Outbound     11.56\n",
       "                   Morning     Inbound      11.89\n",
       "                               Outbound     13.13\n",
       "            Red    Evening     Inbound      12.55\n",
       "                               Outbound     10.76\n",
       "                   Morning     Inbound      12.82\n",
       "                               Outbound     11.16\n",
       "Post-COVID  Green  Evening     Inbound      13.03\n",
       "                               Outbound     12.61\n",
       "                   Morning     Inbound      12.91\n",
       "                               Outbound     14.25\n",
       "            Red    Evening     Inbound      15.40\n",
       "                               Outbound     13.10\n",
       "                   Morning     Inbound      15.16\n",
       "                               Outbound     13.47\n",
       "Pre-COVID   Green  Evening     Inbound      12.15\n",
       "                               Outbound     12.32\n",
       "                   Morning     Inbound      12.18\n",
       "                               Outbound     14.20\n",
       "            Red    Evening     Inbound      14.37\n",
       "                               Outbound     10.93\n",
       "                   Morning     Inbound      15.36\n",
       "                               Outbound     11.56\n",
       "Recovery    Green  Evening     Inbound      12.47\n",
       "                               Outbound     12.02\n",
       "                   Morning     Inbound      12.55\n",
       "                               Outbound     13.48\n",
       "            Red    Evening     Inbound      14.08\n",
       "                               Outbound     12.19\n",
       "                   Morning     Inbound      14.05\n",
       "                               Outbound     12.66\n",
       "Name: AvgHeadwayMinutes, dtype: float64"
      ]
     },
     "execution_count": 25,
     "metadata": {},
     "output_type": "execute_result"
    }
   ],
   "source": [
    "df_all.groupby(['Period', 'Line', 'PeakPeriod', 'Direction'])['AvgHeadwayMinutes'].mean().round(2)\n"
   ]
  },
  {
   "cell_type": "markdown",
   "id": "3a4cbe91",
   "metadata": {},
   "source": [
    "# TRAVEL TIME VOLATILITY"
   ]
  },
  {
   "cell_type": "code",
   "execution_count": 8,
   "id": "f894fa11",
   "metadata": {},
   "outputs": [
    {
     "name": "stdout",
     "output_type": "stream",
     "text": [
      "{'period': 'Pre-COVID', 'percent_under_1_min': np.float64(77.66), 'max_ttv': np.float64(4.28)}\n",
      "{'period': 'Lockdown', 'percent_under_1_min': np.float64(74.56), 'max_ttv': np.float64(4.94)}\n",
      "{'period': 'Recovery', 'percent_under_1_min': np.float64(73.84), 'max_ttv': np.float64(4.27)}\n",
      "{'period': 'Post-COVID', 'percent_under_1_min': np.float64(72.63), 'max_ttv': np.float64(4.24)}\n"
     ]
    }
   ],
   "source": [
    "import pandas as pd\n",
    "\n",
    "# Load the CSV files as DataFrames\n",
    "precovid_volatility = pd.read_csv(r\"C:\\Users\\athen\\Documents\\GitHub\\TCD_Dissertation\\data\\metrics\\precovid\\volatilitydf_precovid.csv\")\n",
    "lockdown_volatility = pd.read_csv(r\"c:\\Users\\athen\\Documents\\GitHub\\TCD_Dissertation\\data\\metrics\\lockdown\\volatilitydf_lockdown.csv\")\n",
    "recovery_volatility = pd.read_csv(r\"C:\\Users\\athen\\Documents\\GitHub\\TCD_Dissertation\\data\\metrics\\recovery\\volatilitydf_recovery.csv\")\n",
    "postcovid_volatility = pd.read_csv(r\"C:\\Users\\athen\\Documents\\GitHub\\TCD_Dissertation\\data\\metrics\\postcovid\\volatilitydf_postcovid.csv\")\n",
    "# Define your analysis function\n",
    "def analyse_ttv(df, label):\n",
    "    under_1_min = (df['AvgVolatilityMinutes'] < 1).sum()\n",
    "    total = df.shape[0]\n",
    "    percent_under_1 = round((under_1_min / total) * 100, 2)\n",
    "    max_ttv = df['AvgVolatilityMinutes'].max()\n",
    "    return {\n",
    "        'period': label,\n",
    "        'percent_under_1_min': percent_under_1,\n",
    "        'max_ttv': round(max_ttv, 2)\n",
    "    }\n",
    "\n",
    "# Run analysis and print results\n",
    "for df, name in zip(\n",
    "    [precovid_volatility, lockdown_volatility, recovery_volatility, postcovid_volatility],\n",
    "    ['Pre-COVID', 'Lockdown', 'Recovery', 'Post-COVID']\n",
    "):\n",
    "    results = analyse_ttv(df, name)\n",
    "    print(results)\n"
   ]
  },
  {
   "cell_type": "markdown",
   "id": "9ec78c58",
   "metadata": {},
   "source": [
    "# JOURNEY DURATION"
   ]
  },
  {
   "cell_type": "code",
   "execution_count": 16,
   "id": "4bbea4cc",
   "metadata": {},
   "outputs": [],
   "source": [
    "import pandas as pd\n",
    "\n",
    "# File paths for each pandemic-defined period\n",
    "period_files = {\n",
    "    \"Pre-COVID\": r\"C:\\Users\\athen\\Documents\\GitHub\\TCD_Dissertation\\data\\metrics\\precovid\\durationsdf_precovid.csv\",\n",
    "    \"Lockdown\": r\"C:\\Users\\athen\\Documents\\GitHub\\TCD_Dissertation\\data\\metrics\\lockdown\\durationsdf_lockdown.csv\",\n",
    "    \"Recovery\": r\"C:\\Users\\athen\\Documents\\GitHub\\TCD_Dissertation\\data\\metrics\\recovery\\durationsdf_recovery.csv\",\n",
    "    \"Post-COVID\": r\"C:\\Users\\athen\\Documents\\GitHub\\TCD_Dissertation\\data\\metrics\\postcovid\\durationsdf_postcovid.csv\"}\n",
    "\n",
    "# Function to map hours to time-of-day periods\n",
    "def assign_period(hour):\n",
    "    if 5 <= hour < 11:\n",
    "        return \"Morning\"\n",
    "    elif 11 <= hour < 17:\n",
    "        return \"Midday\"\n",
    "    elif 17 <= hour < 21:\n",
    "        return \"Evening\"\n",
    "    elif 21 <= hour <= 23 or 0 <= hour < 5:\n",
    "        return \"Night\"\n",
    "    else:\n",
    "        return \"Unknown\"\n",
    "\n",
    "# List to hold summary data\n",
    "time_of_day_summaries = []\n",
    "\n",
    "# Loop through each period's file\n",
    "for period, path in period_files.items():\n",
    "    df = pd.read_csv(path)\n",
    "    \n",
    "    # Extract hour if not already present\n",
    "    if 'hour_of_day' not in df.columns:\n",
    "        df['hour_of_day'] = pd.to_datetime(df['StartTime']).dt.hour\n",
    "    \n",
    "    # Assign time of day\n",
    "    df['TimeOfDay'] = df['hour_of_day'].apply(assign_period)\n",
    "    df['Period'] = period\n",
    "\n",
    "    # Group by time of day, line, and direction\n",
    "    summary = (\n",
    "        df.groupby(['Period', 'TimeOfDay', 'Line', 'Direction'])\n",
    "        .agg(\n",
    "            avg_duration=('TravelTimeMinutes', 'mean'),\n",
    "            std_duration=('TravelTimeMinutes', 'std'),\n",
    "            trip_count=('TravelTimeMinutes', 'count')\n",
    "        )\n",
    "        .reset_index()\n",
    "    )\n",
    "    \n",
    "    time_of_day_summaries.append(summary)\n",
    "\n",
    "# Combine into one DataFrame\n",
    "tod_df = pd.concat(time_of_day_summaries, ignore_index=True)\n"
   ]
  },
  {
   "cell_type": "markdown",
   "id": "ce473c24",
   "metadata": {},
   "source": [
    "### Tables"
   ]
  },
  {
   "cell_type": "code",
   "execution_count": 31,
   "id": "c91abb59",
   "metadata": {},
   "outputs": [
    {
     "data": {
      "text/plain": [
       "Period      Line \n",
       "Lockdown    Green    49.8\n",
       "            Red      48.2\n",
       "Post-COVID  Green    50.8\n",
       "            Red      49.2\n",
       "Pre-COVID   Green    50.2\n",
       "            Red      48.5\n",
       "Recovery    Green    50.2\n",
       "            Red      48.9\n",
       "Name: avg_duration, dtype: float64"
      ]
     },
     "execution_count": 31,
     "metadata": {},
     "output_type": "execute_result"
    }
   ],
   "source": [
    "tod_df.groupby(['Period', 'Line'])['avg_duration'].mean().round(1)\n"
   ]
  },
  {
   "cell_type": "code",
   "execution_count": 32,
   "id": "acaa9f58",
   "metadata": {},
   "outputs": [
    {
     "data": {
      "text/plain": [
       "Period      Line   TimeOfDay\n",
       "Lockdown    Green  Evening      47.4\n",
       "                   Morning      49.6\n",
       "                   Night        55.2\n",
       "            Red    Evening      48.5\n",
       "                   Morning      48.1\n",
       "                   Night        47.3\n",
       "Post-COVID  Green  Evening      48.5\n",
       "                   Morning      50.4\n",
       "                   Night        56.3\n",
       "            Red    Evening      49.7\n",
       "                   Morning      49.0\n",
       "                   Night        48.3\n",
       "Pre-COVID   Green  Evening      47.8\n",
       "                   Morning      49.7\n",
       "                   Night        55.8\n",
       "            Red    Evening      49.1\n",
       "                   Morning      48.4\n",
       "                   Night        47.4\n",
       "Recovery    Green  Evening      48.3\n",
       "                   Morning      49.9\n",
       "                   Night        55.0\n",
       "            Red    Evening      49.2\n",
       "                   Morning      48.8\n",
       "                   Night        47.8\n",
       "Name: avg_duration, dtype: float64"
      ]
     },
     "execution_count": 32,
     "metadata": {},
     "output_type": "execute_result"
    }
   ],
   "source": [
    "tod_df[tod_df['TimeOfDay'].isin(['Morning', 'MidDay', 'Evening', 'Night'])].groupby(['Period', 'Line', 'TimeOfDay'])['avg_duration'].mean().round(1)\n"
   ]
  },
  {
   "cell_type": "markdown",
   "id": "aa9fae47",
   "metadata": {},
   "source": [
    "# COMBINED VOLATILTIY"
   ]
  },
  {
   "cell_type": "code",
   "execution_count": 6,
   "id": "67e587f5",
   "metadata": {},
   "outputs": [
    {
     "name": "stdout",
     "output_type": "stream",
     "text": [
      "Saved\n"
     ]
    }
   ],
   "source": [
    "\n",
    "from PIL import Image\n",
    "import matplotlib.pyplot as plt\n",
    "import numpy as np\n",
    "\n",
    "# Define your 4 phase image files ( Line TTV)\n",
    "phase_files = [\n",
    "    (\"Pre-COVID\", r\"C:\\Users\\athen\\Documents\\GitHub\\TCD_Dissertation\\figures\\travel_time_volatility\\volatility_allperiods_red_combined_lockdown.png\"),\n",
    "    (\"Lockdown\", r\"C:\\Users\\athen\\Documents\\GitHub\\TCD_Dissertation\\figures\\travel_time_volatility\\volatility_allperiods_red_combined_postcovid.png\"),\n",
    "    (\"Recovery\", r\"C:\\Users\\athen\\Documents\\GitHub\\TCD_Dissertation\\figures\\travel_time_volatility\\volatility_allperiods_red_combined_precovid.png\"),\n",
    "    (\"Post-COVID\", r\"C:\\Users\\athen\\Documents\\GitHub\\TCD_Dissertation\\figures\\travel_time_volatility\\volatility_allperiods_red_combined_recovery.png\"),\n",
    "]\n",
    "\n",
    "\n",
    "images = []\n",
    "for phase, file in phase_files:\n",
    "    img = Image.open(file)\n",
    "    fig, ax = plt.subplots(figsize=(img.width / 100, img.height / 100))\n",
    "    ax.imshow(img)\n",
    "    ax.set_title(f\"Red Line Travel Time Volatility — {phase}\", fontsize=16, weight=\"bold\")\n",
    "    ax.axis(\"off\")\n",
    "    fig.tight_layout()\n",
    "    fig.canvas.draw()\n",
    "    \n",
    "    # Updated line:\n",
    "    image_np = np.asarray(fig.canvas.buffer_rgba())\n",
    "    images.append(Image.fromarray(image_np))\n",
    "    plt.close(fig)\n",
    "\n",
    "# Stitch images vertically\n",
    "total_height = sum(img.height for img in images)\n",
    "max_width = max(img.width for img in images)\n",
    "\n",
    "final_img = Image.new(\"RGBA\", (max_width, total_height), color=(255, 255, 255, 255))\n",
    "\n",
    "y_offset = 0\n",
    "for img in images:\n",
    "    final_img.paste(img, (0, y_offset))\n",
    "    y_offset += img.height\n",
    "\n",
    "final_img.save(r\"C:\\Users\\athen\\Documents\\GitHub\\TCD_Dissertation\\figures\\travel_time_volatility\\volatility_red_all_periods_combined.png\")\n",
    "print(\"Saved\")\n",
    "\n"
   ]
  },
  {
   "cell_type": "code",
   "execution_count": 3,
   "id": "0b3f8fe2",
   "metadata": {},
   "outputs": [
    {
     "name": "stdout",
     "output_type": "stream",
     "text": [
      "Reconstructed Journey Counts by Phase:\n",
      "Pre-COVID: 22,574\n",
      "Lockdown: 164,611\n",
      "Recovery: 76,762\n",
      "Post-COVID: 88,680\n",
      "\n",
      "Total Valid Reconstructed Journeys: 352,627\n"
     ]
    }
   ],
   "source": [
    "import pandas as pd\n",
    "\n",
    "period_files = {\n",
    "    \"Pre-COVID\": r\"C:\\Users\\athen\\Documents\\GitHub\\TCD_Dissertation\\data\\metrics\\precovid\\durationsdf_precovid.csv\",\n",
    "    \"Lockdown\": r\"C:\\Users\\athen\\Documents\\GitHub\\TCD_Dissertation\\data\\metrics\\lockdown\\durationsdf_lockdown.csv\",\n",
    "    \"Recovery\": r\"C:\\Users\\athen\\Documents\\GitHub\\TCD_Dissertation\\data\\metrics\\recovery\\durationsdf_recovery.csv\",\n",
    "    \"Post-COVID\": r\"C:\\Users\\athen\\Documents\\GitHub\\TCD_Dissertation\\data\\metrics\\postcovid\\durationsdf_postcovid.csv\"\n",
    "}\n",
    "\n",
    "total_journeys = 0\n",
    "per_phase_counts = {}\n",
    "\n",
    "for phase, filepath in period_files.items():\n",
    "    df = pd.read_csv(filepath)\n",
    "    \n",
    "    if 'TramJourneyID' not in df.columns:\n",
    "        raise ValueError(f\"'TramJourneyID' column not found in {filepath}\")\n",
    "    \n",
    "    journey_count = df['TramJourneyID'].nunique()\n",
    "    per_phase_counts[phase] = journey_count\n",
    "    total_journeys += journey_count\n",
    "\n",
    "# Print the results\n",
    "print(\"Reconstructed Journey Counts by Phase:\")\n",
    "for phase, count in per_phase_counts.items():\n",
    "    print(f\"{phase}: {count:,}\")\n",
    "\n",
    "print(f\"\\nTotal Valid Reconstructed Journeys: {total_journeys:,}\")\n"
   ]
  }
 ],
 "metadata": {
  "kernelspec": {
   "display_name": "dissertation",
   "language": "python",
   "name": "python3"
  },
  "language_info": {
   "codemirror_mode": {
    "name": "ipython",
    "version": 3
   },
   "file_extension": ".py",
   "mimetype": "text/x-python",
   "name": "python",
   "nbconvert_exporter": "python",
   "pygments_lexer": "ipython3",
   "version": "3.11.11"
  }
 },
 "nbformat": 4,
 "nbformat_minor": 5
}
